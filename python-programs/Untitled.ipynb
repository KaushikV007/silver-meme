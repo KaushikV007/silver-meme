{
 "cells": [
  {
   "cell_type": "code",
   "execution_count": 1,
   "id": "687b4190",
   "metadata": {},
   "outputs": [
    {
     "name": "stdout",
     "output_type": "stream",
     "text": [
      "Hello World!\n",
      "What is your name senor?Vidit Kaushik\n",
      "And your age?18\n",
      "Hello  Vidit Kaushik  you are officially  18  years old!!\n"
     ]
    }
   ],
   "source": [
    "print(\"Hello World!\")\n",
    "name=input(\"What is your name senor?\")\n",
    "age=input(\"And your age?\")\n",
    "print(\"Hello \", name,\" you are officially \", age, \" years old!!\" )"
   ]
  },
  {
   "cell_type": "code",
   "execution_count": null,
   "id": "2b789726",
   "metadata": {},
   "outputs": [],
   "source": []
  }
 ],
 "metadata": {
  "kernelspec": {
   "display_name": "Python 3 (ipykernel)",
   "language": "python",
   "name": "python3"
  },
  "language_info": {
   "codemirror_mode": {
    "name": "ipython",
    "version": 3
   },
   "file_extension": ".py",
   "mimetype": "text/x-python",
   "name": "python",
   "nbconvert_exporter": "python",
   "pygments_lexer": "ipython3",
   "version": "3.10.6"
  }
 },
 "nbformat": 4,
 "nbformat_minor": 5
}
